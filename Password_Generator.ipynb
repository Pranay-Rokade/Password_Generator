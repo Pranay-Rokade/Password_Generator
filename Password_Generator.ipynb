{
 "cells": [
  {
   "cell_type": "code",
   "execution_count": 1,
   "id": "3fd15afe",
   "metadata": {},
   "outputs": [],
   "source": [
    "import string\n",
    "import random"
   ]
  },
  {
   "cell_type": "code",
   "execution_count": 9,
   "id": "56d6a547",
   "metadata": {},
   "outputs": [
    {
     "name": "stdout",
     "output_type": "stream",
     "text": [
      "Enter the length of your Password:\n",
      "8\n",
      "8A6#;fjq\n"
     ]
    }
   ],
   "source": [
    "def Gen():\n",
    "    s1 = string.ascii_uppercase\n",
    "    s2 = string.ascii_lowercase\n",
    "    s3 = string.digits\n",
    "    s4 = string.punctuation\n",
    "    \n",
    "    pwlength = int(input(\"Enter the length of your Password:\\n\"))\n",
    "    \n",
    "    s = []\n",
    "    s.extend(s1)\n",
    "    s.extend(s2)\n",
    "    s.extend(s3)\n",
    "    s.extend(s4)\n",
    "    \n",
    "    random.shuffle(s)\n",
    "    \n",
    "    password = (\"\".join(s[0:pwlength]))\n",
    "    print(password)\n",
    "Gen()"
   ]
  }
 ],
 "metadata": {
  "kernelspec": {
   "display_name": "Python 3 (ipykernel)",
   "language": "python",
   "name": "python3"
  },
  "language_info": {
   "codemirror_mode": {
    "name": "ipython",
    "version": 3
   },
   "file_extension": ".py",
   "mimetype": "text/x-python",
   "name": "python",
   "nbconvert_exporter": "python",
   "pygments_lexer": "ipython3",
   "version": "3.11.7"
  }
 },
 "nbformat": 4,
 "nbformat_minor": 5
}
